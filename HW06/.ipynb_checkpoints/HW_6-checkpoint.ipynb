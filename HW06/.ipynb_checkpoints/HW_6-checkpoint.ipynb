{
 "cells": [
  {
   "cell_type": "markdown",
   "metadata": {},
   "source": [
    "# P 6.1"
   ]
  },
  {
   "cell_type": "markdown",
   "metadata": {},
   "source": [
    "Implement a function `Berlekamp(f,q)` performing a Berlekamp factorization. \n",
    "\n",
    "It should take as an argument a square-free polynomial $f(X) \\in \\mathbb{F}_q[X]$ over some finite field $\\mathbb{F_q}$. \n",
    "\n",
    "Return the list of non-trivial factors of $f$ that you find using Berlekamp’s algorithm if $f$ is reducible (so it should just return $f$ if your algorithm detects\n",
    "that $f$ is irreducible), **without** using the built-in function `factor` for polynomials."
   ]
  },
  {
   "cell_type": "code",
   "execution_count": 1,
   "metadata": {
    "vscode": {
     "languageId": "python"
    }
   },
   "outputs": [],
   "source": [
    "from sage.all import *\n",
    "\n",
    "def Berlekamp(f, q):\n",
    "    \"\"\"\n",
    "    Perform Berlekamp factorization on a square-free polynomial over a finite field.\n",
    "\n",
    "    Args:\n",
    "        f (Polynomial): The polynomial to factorize.\n",
    "        q (int): The order of the finite field.\n",
    "\n",
    "    Returns:\n",
    "        list: The list of non-trivial factors of the polynomial.\n",
    "    \"\"\"\n",
    "    # Polynomial ring over the finite field\n",
    "    R = PolynomialRing(GF(q), 'X')\n",
    "    X = R.gen()\n",
    "\n",
    "    # Base case: If f is irreducible, return f\n",
    "    if f.is_irreducible():\n",
    "        return [f]\n",
    "\n",
    "    # Degree of the polynomial\n",
    "    n = f.degree()\n",
    "\n",
    "    # Compute the basis of the Berlekamp algebra over F_q\n",
    "    base = [X**(i*q) for i in range(n)]\n",
    "\n",
    "    # Construct the matrix Q\n",
    "    q_list = [(n*[0] + (base[i] % f).list()[::-1])[-n:][::-1] for i in range(n)]    \n",
    "    q_matrix = Matrix(q_list).T\n",
    "\n",
    "    # Compute the kernel of Q\n",
    "    ker = kernel(q_matrix - matrix.identity(n)).basis()\n",
    "\n",
    "    # Initialize the list of factors\n",
    "    factors = []\n",
    "\n",
    "    # Iterate over each element in the finite field\n",
    "    for c in range(q):\n",
    "        # Compute gcd(f, g_X - c)\n",
    "        factor_candidate = gcd(f, R(ker[0].list()[::-1]) - c)   \n",
    "\n",
    "        # If the gcd is a non-trivial factor, add it to the list of factors\n",
    "        if factor_candidate != 1:\n",
    "            factors.extend(Berlekamp(factor_candidate, q))\n",
    "\n",
    "    return factors\n"
   ]
  },
  {
   "cell_type": "code",
   "execution_count": 3,
   "metadata": {
    "vscode": {
     "languageId": "python"
    }
   },
   "outputs": [
    {
     "name": "stdout",
     "output_type": "stream",
     "text": [
      "Polynomial:\n",
      "\tf (X) = X^6 + X^5\n",
      "Factorization of f(X):\n",
      "\t(X + 1) * X^5\n",
      "[X, X + 1]\n"
     ]
    }
   ],
   "source": [
    "q = 5\n",
    "F_q = GF(q)\n",
    "R = PolynomialRing(F_q, 'X')\n",
    "X = R.gen()\n",
    "\n",
    "# Choose a square-free polynomial f in F_q[X]\n",
    "f = (X +1)*(X)\n",
    "\n",
    "\n",
    "print(\"Polynomial:\\n\\tf (X) = \" + str(f))\n",
    "print(\"Factorization of f(X):\\n\\t\" + str(f.factor()))\n",
    "# print(\"Square-free polynomial:\\n\\tf_tilde(X) = \" + str(remove_repeated_factors(f, q)))\n",
    "# print(\"Factorization of f_tilde(X):\\n\\t\" + str(remove_repeated_factors(f, q).factor()))\n",
    "\n",
    "# radical = f.radical()\n",
    "# print(\"Radical of f(X):\\n\\t\" + str(radical.factor()))\n",
    "\n",
    "# Perform Berlekamp's algorithm\n",
    "# f_r = R(remove_repeated_factors(f, q))\n",
    "print(Berlekamp(f, q))"
   ]
  },
  {
   "cell_type": "markdown",
   "metadata": {},
   "source": [
    "NB: it should return [X,X^2,X^3,X^4,X^5,X+1]\n",
    "\n",
    "Try to make it recursive"
   ]
  },
  {
   "cell_type": "code",
   "execution_count": 12,
   "metadata": {
    "vscode": {
     "languageId": "python"
    }
   },
   "outputs": [
    {
     "data": {
      "text/plain": [
       "X^3 + X^2 + X + 1"
      ]
     },
     "execution_count": 12,
     "metadata": {},
     "output_type": "execute_result"
    }
   ],
   "source": [
    "(X+1)*(X^2 +1)"
   ]
  },
  {
   "cell_type": "code",
   "execution_count": null,
   "metadata": {
    "vscode": {
     "languageId": "python"
    }
   },
   "outputs": [],
   "source": []
  }
 ],
 "metadata": {
  "kernelspec": {
   "display_name": "SageMath 10.1",
   "language": "sage",
   "name": "sagemath"
  },
  "language_info": {
   "codemirror_mode": {
    "name": "ipython",
    "version": 3
   },
   "file_extension": ".py",
   "mimetype": "text/x-python",
   "name": "python",
   "nbconvert_exporter": "python",
   "pygments_lexer": "ipython3",
   "version": "3.11.1"
  }
 },
 "nbformat": 4,
 "nbformat_minor": 2
}
