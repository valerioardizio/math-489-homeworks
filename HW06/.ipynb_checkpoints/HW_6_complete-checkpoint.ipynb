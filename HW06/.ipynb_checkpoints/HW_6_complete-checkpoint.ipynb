{
 "cells": [
  {
   "cell_type": "markdown",
   "metadata": {},
   "source": [
    "# P 6.1"
   ]
  },
  {
   "cell_type": "markdown",
   "metadata": {},
   "source": [
    "Implement a function `Berlekamp(f,q)` performing a Berlekamp factorization. \n",
    "\n",
    "It should take as an argument a square-free polynomial $f(X) \\in \\mathbb{F}_q[X]$ over some finite field $\\mathbb{F_q}$. \n",
    "\n",
    "Return the list of non-trivial factors of $f$ that you find using Berlekamp’s algorithm if $f$ is reducible (so it should just return $f$ if your algorithm detects\n",
    "that $f$ is irreducible), **without** using the built-in function `factor` for polynomials."
   ]
  },
  {
   "cell_type": "markdown",
   "metadata": {},
   "source": [
    "### Implementing the funtion `Berlekamp(f,q)`"
   ]
  },
  {
   "cell_type": "code",
   "execution_count": 15,
   "metadata": {
    "vscode": {
     "languageId": "python"
    }
   },
   "outputs": [],
   "source": [
    "def Berlekamp_basis(f, q):\n",
    "    \"\"\"\n",
    "    Compute the basis of the Berlekamp algebra over a finite field.\n",
    "\n",
    "    Args:\n",
    "        f (Polynomial): The polynomial to factorize.\n",
    "        q (int): The order of the finite field.\n",
    "\n",
    "    Returns:\n",
    "        list: The basis vectors of the Berlekamp algebra.\n",
    "    \"\"\"\n",
    "    # Define the finite field\n",
    "    k.<a> = GF(q)\n",
    "    T.<x> = k[]\n",
    "\n",
    "    # Initialize the list to store basis vectors\n",
    "    v = []\n",
    "\n",
    "    # Iterate over each degree up to the degree of the polynomial\n",
    "    for i in range(f.degree()):\n",
    "        # Compute x^(i*q) modulo f\n",
    "        _, r = (x^(i*q)).quo_rem(f)\n",
    "\n",
    "        # Get the coefficients of the resulting polynomial\n",
    "        vec = r.coefficients(sparse=False)\n",
    "\n",
    "        # Pad with zeros to make the length equal to the degree of f\n",
    "        vec += [0] * (f.degree() - len(vec))\n",
    "\n",
    "        # Append to the list of basis vectors\n",
    "        v.append(vec)\n",
    "        \n",
    "    # Construct the matrix Q and compute its right kernel basis\n",
    "    M = MatrixSpace(k, f.degree(), f.degree())\n",
    "    Q = M(v).T\n",
    "    return (Q - M.identity_matrix()).right_kernel().basis()"
   ]
  },
  {
   "cell_type": "code",
   "execution_count": 16,
   "metadata": {
    "vscode": {
     "languageId": "python"
    }
   },
   "outputs": [],
   "source": [
    "def Berlekamp(f, q):\n",
    "    \"\"\"\n",
    "    Perform Berlekamp factorization on a square-free polynomial over a finite field.\n",
    "\n",
    "    Args:\n",
    "        f (Polynomial): The polynomial to factorize.\n",
    "        q (int): The order of the finite field.\n",
    "\n",
    "    Returns:\n",
    "        list: The list of non-trivial factors of the polynomial.\n",
    "    \"\"\"\n",
    "    # Define the finite field\n",
    "    k.<a> = GF(q)\n",
    "    T.<x> = k[]\n",
    "\n",
    "    # Compute the basis of the Berlekamp algebra\n",
    "    basis = Berlekamp_basis(f, q)\n",
    "\n",
    "    # Initialize the list of factors\n",
    "    factors = []\n",
    "\n",
    "    # Iterate over each vector in the basis\n",
    "    for v_g in basis:\n",
    "        # Compute the corresponding polynomial g\n",
    "        g = T(list(v_g))\n",
    "\n",
    "        # Flag to indicate if a non-trivial factor is found\n",
    "        flag_found_non_trivial_factor = False\n",
    "        \n",
    "        # Iterate over each element in the finite field\n",
    "        for c in k:\n",
    "            # Compute gcd(f, g - c)\n",
    "            h = f.gcd(g - c)\n",
    "\n",
    "            # If the gcd is a non-trivial factor, add it to the list of factors\n",
    "            if not h.is_unit() and h.degree() < f.degree():\n",
    "                # Compute Berlekamp factorization for the factors and append to the list\n",
    "                res_1 = Berlekamp(h, q)\n",
    "                res_2 = Berlekamp(f // h, q)\n",
    "\n",
    "                factors.extend(element for element in res_1 if element not in factors)\n",
    "                factors.extend(element for element in res_2 if element not in factors)\n",
    "                \n",
    "                flag_found_non_trivial_factor = True\n",
    "                \n",
    "                break\n",
    "\n",
    "        # If a non-trivial factor is found, exit the loop\n",
    "        if flag_found_non_trivial_factor:\n",
    "            break\n",
    "\n",
    "    # If no non-trivial factors are found, return the polynomial as a factor\n",
    "    if factors == []:\n",
    "        return [f]\n",
    "    # Else, return the list of factors\n",
    "    else:\n",
    "        return factors"
   ]
  },
  {
   "cell_type": "markdown",
   "metadata": {},
   "source": [
    "### Testing the function `Berlekamp(f,q)`"
   ]
  },
  {
   "cell_type": "code",
   "execution_count": 17,
   "metadata": {
    "vscode": {
     "languageId": "python"
    }
   },
   "outputs": [
    {
     "name": "stdout",
     "output_type": "stream",
     "text": [
      "\n",
      "Polynomial:\n",
      "\tf (X) = x^9 + 16*x^8 + 5*x^7 + 5*x^6 + x^3 + 16*x^2 + 5*x + 5\n",
      "\n",
      "Factorization of f(X):\n",
      "\t(x + 2) * (x + 4) * (x + 5) * (x + 9) * (x + 13) * (x^2 + 4*x + 16) * (x^2 + 13*x + 16)\n",
      "\n",
      "Output of Berlekamp(f, q):\n",
      "\t [x + 4, x + 13, x + 9, x + 5, x + 2, x^2 + 13*x + 16, x^2 + 4*x + 16]\n",
      "\n",
      "The factorization is correct: True\n"
     ]
    }
   ],
   "source": [
    "q = 17\n",
    "R.<x> = PolynomialRing(GF(q))\n",
    "\n",
    "f = (x + 2) * (x + 5) * (x + 9) * (x^6 + 1)\n",
    "\n",
    "# Choose a square-free polynomial f in F_q[X]\n",
    "# f = (X + 2) * (X + 5) * (X + 9) * (X^6+1)\n",
    "\n",
    "# Print the polynomial and its factorization\n",
    "print(\"\\nPolynomial:\\n\\tf (X) = \" + str(f))\n",
    "print(\"\\nFactorization of f(X):\\n\\t\" + str(f.factor()))\n",
    "\n",
    "# Perform Berlekamp's algorithm\n",
    "factors = Berlekamp(f, q)\n",
    "factors.sort(key=lambda x: x.degree())\n",
    "print(\"\\nOutput of Berlekamp(f, q):\\n\\t\", factors)\n",
    "\n",
    "# Check the correctness of the factorization\n",
    "print(\"\\nThe factorization is correct:\", f == prod(factors))"
   ]
  },
  {
   "cell_type": "code",
   "execution_count": 18,
   "metadata": {
    "vscode": {
     "languageId": "python"
    }
   },
   "outputs": [
    {
     "name": "stdout",
     "output_type": "stream",
     "text": [
      "\n",
      "Polynomial:\n",
      "\tf (X) = x^4 + x^2 + x + 1\n",
      "\n",
      "Factorization of f(X):\n",
      "\t(x + 1) * (x^3 + x^2 + 1)\n",
      "\n",
      "Output of Berlekamp(f, q):\n",
      "\t [x + 1, x^3 + x^2 + 1]\n",
      "\n",
      "The factorization is correct: True\n"
     ]
    }
   ],
   "source": [
    "# Exercise 2 from mock midterm\n",
    "\n",
    "q = 2\n",
    "R.<x> = PolynomialRing(GF(q))\n",
    "\n",
    "f = x^4 + x^2 + x + 1\n",
    "\n",
    "# Choose a square-free polynomial f in F_q[X]\n",
    "# f = (X + 2) * (X + 5) * (X + 9) * (X^6+1)\n",
    "\n",
    "# Print the polynomial and its factorization\n",
    "print(\"\\nPolynomial:\\n\\tf (X) = \" + str(f))\n",
    "print(\"\\nFactorization of f(X):\\n\\t\" + str(f.factor()))\n",
    "\n",
    "# Perform Berlekamp's algorithm\n",
    "factors = Berlekamp(f, q)\n",
    "factors.sort(key=lambda x: x.degree())\n",
    "print(\"\\nOutput of Berlekamp(f, q):\\n\\t\", factors)\n",
    "\n",
    "# Check the correctness of the factorization\n",
    "print(\"\\nThe factorization is correct:\", f == prod(factors))"
   ]
  },
  {
   "cell_type": "markdown",
   "metadata": {},
   "source": [
    "# P 6.2"
   ]
  },
  {
   "cell_type": "markdown",
   "metadata": {},
   "source": [
    "Use the above function to implement the function `Berlekamp_factor(f, q)`, that, given a polynomial $f(X) \\in \\mathbb{F}_q[X]$ returns a list with all irreducible factors of $f(X)$, together with their multiplicities. \n",
    "\n",
    "Don’t forget to work with the square-free part (using the SAGE method `f.radical()`) of $f$ before using the Berlekamp function from above."
   ]
  },
  {
   "cell_type": "markdown",
   "metadata": {},
   "source": [
    "### Implementing the function `Berlekamp_factor(f,q)`"
   ]
  },
  {
   "cell_type": "code",
   "execution_count": null,
   "metadata": {
    "vscode": {
     "languageId": "python"
    }
   },
   "outputs": [
    {
     "ename": "",
     "evalue": "",
     "output_type": "error",
     "traceback": [
      "\u001b[1;31mFailed to start the Kernel. \n",
      "\u001b[1;31mView Jupyter <a href='command:jupyter.viewOutput'>log</a> for further details."
     ]
    }
   ],
   "source": [
    "def Berlekamp_factor(f, q):\n",
    "    \"\"\"\n",
    "    Perform Berlekamp factorization recursively on a square-free polynomial over a finite field.\n",
    "\n",
    "    Args:\n",
    "        f (Polynomial): The polynomial to factorize.\n",
    "        q (int): The order of the finite field.\n",
    "\n",
    "    Returns:\n",
    "        list: The list of non-trivial factors of the polynomial.\n",
    "    \"\"\"\n",
    "    # Compute Berlekamp factorization for the radical of the polynomial\n",
    "    res = Berlekamp(f.radical(), q)\n",
    "\n",
    "    # Initialize the result with the polynomial divided by its radical\n",
    "    frac = f // f.radical()\n",
    "\n",
    "    # Iterate until the result is reduced to 1\n",
    "    while frac != 1:\n",
    "        # Compute Berlekamp factorization for the radical of the reduced polynomial\n",
    "        res += Berlekamp(frac.radical(), q)\n",
    "\n",
    "        # Update the reduced polynomial by dividing it by its radical\n",
    "        frac = frac // frac.radical()\n",
    "\n",
    "    # Remove duplicates and count occurrences of each factor\n",
    "    res = set([(i, res.count(i)) for i in res if res.count(i) != 0])\n",
    "\n",
    "    # Convert the set back to a list and return\n",
    "    return list(res)\n"
   ]
  },
  {
   "cell_type": "markdown",
   "metadata": {},
   "source": [
    "### Testing the function `Berlekamp_factor(f,q)`"
   ]
  },
  {
   "cell_type": "code",
   "execution_count": null,
   "metadata": {
    "vscode": {
     "languageId": "python"
    }
   },
   "outputs": [
    {
     "ename": "",
     "evalue": "",
     "output_type": "error",
     "traceback": [
      "\u001b[1;31mFailed to start the Kernel. \n",
      "\u001b[1;31mView Jupyter <a href='command:jupyter.viewOutput'>log</a> for further details."
     ]
    }
   ],
   "source": [
    "# Setup\n",
    "q = 13\n",
    "R.<x> = PolynomialRing(GF(q))\n",
    "f = (x^2 + 11) **2 * (x^3 + 7*x) * (x - 21)**3 * (x^3 + x^2 + 11)**6 * (x^4 + 1)\n",
    "\n",
    "# Print the polynomial and its factorization\n",
    "print(\"\\nPolynomial:\\n\\tf (X) = \" + str(f))\n",
    "print(\"\\nFactorization of f(X):\\n\\t\" + str(f.factor()))\n",
    "\n",
    "# Test the function Berlekamp_factor\n",
    "factor_list = Berlekamp_factor(f, q)\n",
    "factor_list.sort(key=lambda x: x[0].degree())\n",
    "print(\"\\nOutput of Berlekamp_factor(f, q):\\n\\t\", factor_list)\n",
    "\n",
    "# Check the correctness of the factorization\n",
    "print(\"\\nThe factorization is correct:\", f == prod([f[0] ** f[1] for f in factor_list]))"
   ]
  },
  {
   "cell_type": "code",
   "execution_count": null,
   "metadata": {
    "vscode": {
     "languageId": "python"
    }
   },
   "outputs": [
    {
     "ename": "",
     "evalue": "",
     "output_type": "error",
     "traceback": [
      "\u001b[1;31mFailed to start the Kernel. \n",
      "\u001b[1;31mView Jupyter <a href='command:jupyter.viewOutput'>log</a> for further details."
     ]
    }
   ],
   "source": [
    "# Setup\n",
    "q = 17\n",
    "R.<x> = PolynomialRing(GF(q))\n",
    "f = (x + 2) * (x + 5)^5 * (x + 9)^3 * (x^6 + 1)^2\n",
    "\n",
    "# Print the polynomial and its factorization\n",
    "print(\"\\nPolynomial:\\n\\tf (X) = \" + str(f))\n",
    "print(\"\\nFactorization of f(X):\\n\\t\" + str(f.factor()))\n",
    "\n",
    "# Test the function Berlekamp_factor\n",
    "factor_list = Berlekamp_factor(f, q)\n",
    "factor_list.sort(key=lambda x: x[0].degree())\n",
    "print(\"\\nOutput of Berlekamp_factor(f, q):\\n\\t\", factor_list)\n",
    "\n",
    "# Check the correctness of the factorization\n",
    "print(\"\\nThe factorization is correct:\", f == prod([f[0] ** f[1] for f in factor_list]))"
   ]
  },
  {
   "cell_type": "code",
   "execution_count": null,
   "metadata": {
    "vscode": {
     "languageId": "python"
    }
   },
   "outputs": [
    {
     "ename": "",
     "evalue": "",
     "output_type": "error",
     "traceback": [
      "\u001b[1;31mFailed to start the Kernel. \n",
      "\u001b[1;31mView Jupyter <a href='command:jupyter.viewOutput'>log</a> for further details."
     ]
    }
   ],
   "source": []
  }
 ],
 "metadata": {
  "kernelspec": {
   "display_name": "SageMath 10.1",
   "language": "sage",
   "name": "sagemath"
  },
  "language_info": {
   "codemirror_mode": {
    "name": "ipython",
    "version": 3
   },
   "file_extension": ".py",
   "mimetype": "text/x-python",
   "name": "python",
   "nbconvert_exporter": "python",
   "pygments_lexer": "ipython3",
   "version": "3.11.1"
  }
 },
 "nbformat": 4,
 "nbformat_minor": 2
}
