{
 "cells": [
  {
   "cell_type": "markdown",
   "metadata": {},
   "source": [
    "# P 9.1"
   ]
  },
  {
   "cell_type": "markdown",
   "metadata": {},
   "source": [
    "Write the function `PollardRho(g, h, p)` in SAGE that solves the discrete logarithm problem $g^x \\equiv h \\mod p$ in $\\mathbb{F}_p^{\\times}$ for a generator $g$ of $\\mathbb{F}_p^{\\times}$, using the base point $x_0 = 1$ and\n",
    "the partition $\\mathbb{F}_p^{\\times} = P_0 \\sqcup P_1 \\sqcup P_2$ where $P_j := \\{ x \\ (\\text{mod } p) : jp/3 \\leq x < (j + 1)p/3 \\}$ for $j \\in \\{0,1,2 \\}$. \n",
    "\n",
    "You may want to use exercise T9.2."
   ]
  },
  {
   "cell_type": "code",
   "execution_count": 171,
   "metadata": {},
   "outputs": [],
   "source": [
    "def determine_partition(x,p):\n",
    "    if 0 <= float(x) and float(x) < p/3:\n",
    "        return 0   # x in P_0\n",
    "    if p/3 <= float(x) and float(x) < 2*p/3:\n",
    "        return 1    # x in P_1\n",
    "    if 2*p/3 <= float(x) and float(x) < p:\n",
    "        return 2    # x in P_2\n",
    "\n",
    "def evaluate_f(x, g, h, p):\n",
    "    partition = determine_partition(x,p)\n",
    "    if partition == 0:\n",
    "        return g*x % p\n",
    "    if partition == 1:\n",
    "        return x**2 % p\n",
    "    if partition == 2:\n",
    "        return h*x % p\n",
    "\n",
    "def update_a(a, x, p):\n",
    "    partition = determine_partition(x,p)\n",
    "    if partition == 0:\n",
    "        return (a + 1) % (p - 1)\n",
    "    if partition == 1:\n",
    "        return 2*a % (p - 1)\n",
    "    if partition == 2:\n",
    "        return a\n",
    "\n",
    "def update_b(b, x, p):\n",
    "    partition = determine_partition(x,p)\n",
    "    if partition == 0:\n",
    "        return b\n",
    "    if partition == 1:\n",
    "        return 2*b % (p - 1)\n",
    "    if partition == 2:\n",
    "        return (b + 1) % (p - 1)"
   ]
  },
  {
   "cell_type": "code",
   "execution_count": 172,
   "metadata": {},
   "outputs": [],
   "source": [
    "class Tortoise:\n",
    "    def __init__(self, x, a, b):\n",
    "        self.x = x\n",
    "        self.a = a\n",
    "        self.b = b\n",
    "\n",
    "class Hare:\n",
    "    def __init__(self, x, a, b):\n",
    "        self.x = x\n",
    "        self.a = a\n",
    "        self.b = b\n",
    "\n",
    "class TempValue:\n",
    "    def __init__(self, x, a, b):\n",
    "        self.x = x\n",
    "        self.a = a\n",
    "        self.b = b\n",
    "\n",
    "BOUND = 2048\n",
    "\n",
    "def PollardRho(g, h, p):\n",
    "    tortoise = Tortoise(1, 0, 0)\n",
    "    hare = Hare(1, 0, 0)\n",
    "    temp = TempValue(1, 0, 0)\n",
    "\n",
    "    for _ in range(1, BOUND):\n",
    "        tortoise.a = update_a(tortoise.a, tortoise.x, p)\n",
    "        tortoise.b = update_b(tortoise.b, tortoise.x, p)\n",
    "        tortoise.x = evaluate_f(tortoise.x, g, h, p)\n",
    "        tortoise = Tortoise(tortoise.x, tortoise.a, tortoise.b)\n",
    "\n",
    "        temp.x = evaluate_f(hare.x, g, h, p)\n",
    "        temp.a = update_a(hare.a, hare.x, p)\n",
    "        temp.b = update_b(hare.b, hare.x, p)\n",
    "        temp = TempValue(temp.x, temp.a, temp.b)\n",
    "\n",
    "        hare.x = evaluate_f(temp.x, g, h, p)\n",
    "        hare.a = update_a(temp.a, temp.x, p)\n",
    "        hare.b = update_b(temp.b, temp.x, p)\n",
    "        hare = Hare(hare.x, hare.a, hare.b)\n",
    "\n",
    "        if tortoise.x == hare.x:\n",
    "            if (tortoise.b - hare.b) == 0:\n",
    "                raise ValueError(\"Error: Division by zero\")\n",
    "            results = solve_mod((tortoise.b - hare.b)*x == (hare.a - tortoise.a), p - 1)\n",
    "            for element in results:\n",
    "                if (g**element[0]) % p == h:\n",
    "                    return element[0]\n",
    "            raise ValueError(\"Error: No solution found\")\n",
    "    \n",
    "    raise ValueError(\"Error: No solution found\")"
   ]
  },
  {
   "cell_type": "code",
   "execution_count": 177,
   "metadata": {},
   "outputs": [
    {
     "name": "stdout",
     "output_type": "stream",
     "text": [
      "Let F_p = <g> be a random finite field and h a random element of F_p:\n",
      "\tp = 170389\n",
      "\tg = 2\n",
      "\th = 8284\n",
      "\n",
      "Solution of the discrete logarithm:\n",
      "\tlog_2(8284) = 75308.\n",
      "\n",
      "The solution is correct and was computed in 9.804 seconds!\n"
     ]
    }
   ],
   "source": [
    "import time\n",
    "\n",
    "# Generate a random finite field F_p\n",
    "print(\"Let F_p = <g> be a random finite field and h a random element of F_p:\")\n",
    "p = 1\n",
    "while not is_prime(p):\n",
    "    p = randint(2**12, 2**20)\n",
    "F = GF(p)\n",
    "\n",
    "# Pick a random generator of F_p\n",
    "g = F.multiplicative_generator()\n",
    "\n",
    "# Pick a random h\n",
    "h = 0\n",
    "while h == 0:\n",
    "    h = F.random_element()\n",
    "\n",
    "print(f\"\\tp = {p}\\n\\tg = {g}\\n\\th = {h}\")\n",
    "\n",
    "# Solve the discrete logarithm\n",
    "start = time.time() # start a timer\n",
    "result = PollardRho(g, h, p)\n",
    "print(f\"\\nSolution of the discrete logarithm:\\n\\tlog_{g}({h}) = {result}.\")\n",
    "end = time.time() # stop the timer\n",
    "\n",
    "if (g**result) % p == h:\n",
    "    print(f\"\\nThe solution is correct and was computed in {round(end - start,3)} seconds!\")"
   ]
  },
  {
   "cell_type": "code",
   "execution_count": null,
   "metadata": {},
   "outputs": [],
   "source": []
  }
 ],
 "metadata": {
  "kernelspec": {
   "display_name": "SageMath 10.1",
   "language": "sage",
   "name": "SageMath-10.1"
  },
  "language_info": {
   "codemirror_mode": {
    "name": "ipython",
    "version": 3
   },
   "file_extension": ".py",
   "mimetype": "text/x-python",
   "name": "python",
   "nbconvert_exporter": "python",
   "pygments_lexer": "ipython3",
   "version": "3.11.1"
  }
 },
 "nbformat": 4,
 "nbformat_minor": 2
}
