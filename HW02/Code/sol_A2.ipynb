{
 "cells": [
  {
   "cell_type": "code",
   "execution_count": 1,
   "metadata": {},
   "outputs": [],
   "source": [
    "def RecursiveDFT(a, omega):\n",
    "    n = len(a)\n",
    "    if n == 1:\n",
    "        return a\n",
    "    a_even = [a[2*i] for i in range(n//2)] #or vector([a[i] for i in range(0, n, 2)])\n",
    "    a_odd = [a[2*i + 1] for i in range(n//2)] #or a[1::2]\n",
    "    \n",
    "    hat_even = RecursiveDFT(a_even, omega^2)\n",
    "    hat_odd = RecursiveDFT(a_odd, omega^2)\n",
    "\n",
    "    w = 1\n",
    "    hat_a_first_half = []\n",
    "    hat_a_second_half = []\n",
    "    for i in range(n//2):\n",
    "        hat_a_first_half += [hat_even[i] + w*hat_odd[i]]\n",
    "        hat_a_second_half += [hat_even[i] - w*hat_odd[i]]\n",
    "        w *= omega\n",
    "    return hat_a_first_half + hat_a_second_half"
   ]
  },
  {
   "cell_type": "code",
   "execution_count": 2,
   "metadata": {},
   "outputs": [],
   "source": [
    "def InverseRecursiveDFT(hat_a, omega):\n",
    "    n = len(hat_a)\n",
    "    v = RecursiveDFT(hat_a, omega)\n",
    "    a = [v_i / n for v_i in v]\n",
    "    return a"
   ]
  },
  {
   "cell_type": "code",
   "execution_count": 3,
   "metadata": {},
   "outputs": [],
   "source": [
    "import random\n",
    "\n",
    "def sanity_check():\n",
    "    # Setup\n",
    "    k = 4\n",
    "    n = 2**k\n",
    "\n",
    "    # Generate a random list of unique integers within a range\n",
    "    a = random.sample(range(1, 20), n)\n",
    "    \n",
    "    n = len(a)\n",
    "    omega_n = E(n) # obtaining the n-th root of unity from https://doc.sagemath.org/html/en/reference/number_fields/sage/rings/universal_cyclotomic_field.html\n",
    "\n",
    "    print(\"Everything running correctly:\\n>>\", InverseRecursiveDFT(RecursiveDFT(a,omega_n),omega_n ** (-1)) == a)"
   ]
  },
  {
   "cell_type": "code",
   "execution_count": 4,
   "metadata": {},
   "outputs": [
    {
     "name": "stdout",
     "output_type": "stream",
     "text": [
      "Everything running correctly:\n",
      ">> True\n"
     ]
    }
   ],
   "source": [
    "sanity_check()"
   ]
  },
  {
   "cell_type": "markdown",
   "metadata": {},
   "source": [
    "(c) Write a function **DFT_product** that computes the product of two integers, using fast Fourier transform. \n",
    "\n",
    "Hint: we do not require you to necessarily implement Schönhage-Strassen’s algorithm, but you can use the idea that $2$ is a primitive $2n$-th root of unity in $\\mathbb{Z}/(2^n+1)\\mathbb{Z}$. Otherwise working with complex roots of unity is fine."
   ]
  },
  {
   "cell_type": "code",
   "execution_count": 5,
   "metadata": {},
   "outputs": [],
   "source": [
    "def next_power_2(n):\n",
    "    power = 1\n",
    "    while power < n:\n",
    "        power *= 2\n",
    "    return power\n",
    "\n",
    "\n",
    "def DFT_product(r, s, base=10, modulo=1):\n",
    "    a = ZZ(r).digits(base)\n",
    "    b = ZZ(s).digits(base)\n",
    "\n",
    "    n = next_power_2(max(len(a), len(b), 2*base.nbits()))\n",
    "    a += [0]*(2*n - len(a))#or a = r.digits(base=2, padto=2∗n)\n",
    "    b += [0]*(2*n - len(b))\n",
    "\n",
    "    if modulo:\n",
    "        N = 2 ** n + 1\n",
    "        omega_2n = mod(2, N)\n",
    "    else:\n",
    "        omega_2n = E(2*n)\n",
    "    \n",
    "    hat_a = RecursiveDFT(a, omega_2n)\n",
    "    hat_b = RecursiveDFT(b, omega_2n)\n",
    "\n",
    "    hat_prod = [hat_a[j]*hat_b[j] for j in range(2*n)] \n",
    "    prod = InverseRecursiveDFT(hat_prod, omega_2n **(-1))\n",
    "    \n",
    "    if modulo:\n",
    "        return sum([prod[i].lift() * (base ** i) for i in range(2*n)])\n",
    "    else:\n",
    "        return sum([prod[i] * (base**i) for i in range(2*n)])"
   ]
  },
  {
   "cell_type": "code",
   "execution_count": 9,
   "metadata": {},
   "outputs": [],
   "source": [
    "for r in range(50):\n",
    "    for s in range(r, 50):\n",
    "        #prod = DFT_product(r, s)\n",
    "        #prod = DFT_product(r, s, base = 2)\n",
    "        prod = DFT_product(r, s, base = 10, modulo = 0) #longer but it works\n",
    "        if(r*s != prod):\n",
    "            print(r, s, prod)"
   ]
  },
  {
   "cell_type": "code",
   "execution_count": null,
   "metadata": {},
   "outputs": [],
   "source": []
  }
 ],
 "metadata": {
  "kernelspec": {
   "display_name": "SageMath 10.1",
   "language": "sage",
   "name": "SageMath-10.1"
  },
  "language_info": {
   "codemirror_mode": {
    "name": "ipython",
    "version": 3
   },
   "file_extension": ".py",
   "mimetype": "text/x-python",
   "name": "python",
   "nbconvert_exporter": "python",
   "pygments_lexer": "ipython3",
   "version": "3.11.1"
  },
  "vscode": {
   "interpreter": {
    "hash": "aee8b7b246df8f9039afb4144a1f6fd8d2ca17a180786b69acc140d282b71a49"
   }
  }
 },
 "nbformat": 4,
 "nbformat_minor": 2
}
