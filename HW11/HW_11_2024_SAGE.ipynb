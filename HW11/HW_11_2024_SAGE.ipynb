{
 "cells": [
  {
   "cell_type": "markdown",
   "metadata": {},
   "source": [
    "# P 11.1"
   ]
  },
  {
   "cell_type": "markdown",
   "metadata": {
    "collapsed": false
   },
   "source": [
    "Consider the following data given below. \n",
    "\n",
    "Using SAGE, do the following:\n",
    "    \n",
    "1. Check that $qP = O_E$ and that $q$ is indeed a prime number.\n",
    "2. Verify that $(S_1, S_2)$ is a valid signature for the document $D$ and the verification key $A$, knowing that $0 < \\texttt{int}(y(P)), \\texttt{int}(y(A)) < p/2$.\n"
   ]
  },
  {
   "cell_type": "code",
   "execution_count": 1,
   "metadata": {
    "collapsed": false,
    "vscode": {
     "languageId": "python"
    }
   },
   "outputs": [],
   "source": [
    "p   = 2^384 - 2^128 - 2^96 + 2^32 - 1\n",
    "a   = -3\n",
    "b   = 27580193559959705877849011840389048093056905856361568521428707301988689241309860865136260764883745107765439761230575\n",
    "xP  = 9927569721545390815034713904622759727440640009568502331607218669906608389108530937089042810199441312117717067185412\n",
    "q   = 39402006196394479212279040100143613805079739270465446667946905279627659399113263569398956308152294913554433653942643\n",
    "xA  = 29400003852608672639867349879251432905099128866639045860503309429241268278901837643832541859075556345862458834761765\n",
    "D   = 1415574695691915124168896603027864661322838868352349273945839601722462604573059900203151158258340990168334336\n",
    "S1  = 13669797451316206272209337753571017954169997281397226685068093299839322753638412752144616602545722591906382790482469\n",
    "S2  = 22724282496840316001698707302101306704785167815942863432725566208290642414916361973166625614388772211458477112104622"
   ]
  },
  {
   "cell_type": "code",
   "execution_count": 2,
   "metadata": {
    "vscode": {
     "languageId": "python"
    }
   },
   "outputs": [],
   "source": [
    "def find_y_for_x(x, a, b, p):\n",
    "    y = PolynomialRing(GF(p), 'y').gen()\n",
    "    poly = y^2 - x^3 - a*x - b\n",
    "\n",
    "    roots = []\n",
    "    for root in poly.roots():\n",
    "        if int(root[0]) > 0 and int(root[0]) < int(p/2):\n",
    "            roots.append(root[0])\n",
    "    return roots[0]"
   ]
  },
  {
   "cell_type": "code",
   "execution_count": 3,
   "metadata": {
    "vscode": {
     "languageId": "python"
    }
   },
   "outputs": [
    {
     "name": "stdout",
     "output_type": "stream",
     "text": [
      "Elliptic Curve defined by y^2 = x^3 + 39402006196394479212279040100143613805079739270465446667948293404245721771496870329047266088258938001861606973112316*x + 27580193559959705877849011840389048093056905856361568521428707301988689241309860865136260764883745107765439761230575 over Finite Field of size 39402006196394479212279040100143613805079739270465446667948293404245721771496870329047266088258938001861606973112319\n",
      "\n",
      "P = (9927569721545390815034713904622759727440640009568502331607218669906608389108530937089042810199441312117717067185412 : 11335415539847742054638194421863270641395141898512679240517549596468726158906956112765871606628444247441698387066910 : 1)\n",
      "A = (29400003852608672639867349879251432905099128866639045860503309429241268278901837643832541859075556345862458834761765 : 5591125466805362989822198903344140189575231852793533288233047492474179712731680718968075632699616565274998339563954 : 1)\n",
      "\n",
      "qP = O_E ?\n",
      ">> True\n",
      "q is prime ?\n",
      ">> True\n"
     ]
    }
   ],
   "source": [
    "E = EllipticCurve(GF(p), [0, 0, 0, a, b])\n",
    "print(E)\n",
    "\n",
    "P = E(xP, find_y_for_x(xP, a, b, p))\n",
    "A = E(xA, find_y_for_x(xA, a, b, p))\n",
    "\n",
    "\n",
    "print(f\"\\nP = {P}\")\n",
    "print(f\"A = {A}\")\n",
    "\n",
    "# Check that qP = O_E, i.e. the order of P is q\n",
    "print(f\"\\nqP = O_E ?\\n>> {q == P.order()}\")\n",
    "\n",
    "# Check that q is prime\n",
    "print(f\"q is prime ?\\n>> {is_prime(q)}\")\n"
   ]
  },
  {
   "cell_type": "code",
   "execution_count": 4,
   "metadata": {
    "vscode": {
     "languageId": "python"
    }
   },
   "outputs": [
    {
     "name": "stdout",
     "output_type": "stream",
     "text": [
      "Is D^sig a valid signature for the document D and the verification key A ?\n",
      ">> True\n"
     ]
    }
   ],
   "source": [
    "V_1 = (D * inverse_mod(S2,q)) % q\n",
    "V_2 = (S1 * inverse_mod(S2,q)) % q\n",
    "\n",
    "assert S1 == Integer((V_1 * P + V_2 * A)[0]) % q # Checks singature : x(V1*P + V2*A) mod q == S1\n",
    "print(f\"Is D^sig a valid signature for the document D and the verification key A ?\\n>> {S1 == Integer((V_1 * P + V_2 * A)[0]) % q}\")"
   ]
  },
  {
   "cell_type": "code",
   "execution_count": null,
   "metadata": {
    "vscode": {
     "languageId": "python"
    }
   },
   "outputs": [],
   "source": []
  }
 ],
 "metadata": {
  "kernelspec": {
   "display_name": "SageMath 10.1",
   "language": "sage",
   "name": "SageMath-10.1",
   "resource_dir": "/ext/jupyter/kernels/sage-9.1"
  },
  "language_info": {
   "codemirror_mode": {
    "name": "ipython",
    "version": 3
   },
   "file_extension": ".py",
   "mimetype": "text/x-python",
   "name": "sage",
   "nbconvert_exporter": "python",
   "pygments_lexer": "ipython3",
   "version": "3.11.1"
  }
 },
 "nbformat": 4,
 "nbformat_minor": 4
}
