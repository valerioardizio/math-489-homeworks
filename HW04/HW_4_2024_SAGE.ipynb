{
 "cells": [
  {
   "cell_type": "markdown",
   "metadata": {},
   "source": [
    "# P 4.1"
   ]
  },
  {
   "cell_type": "markdown",
   "metadata": {},
   "source": [
    "Implement `Montgomery_mult` and `Montgomery_exp` corresponding to the Montgomery multiplication and exponentiation respectively. \n",
    "\n",
    "Test the correctness of your functions using the `%` operator and compare the timing."
   ]
  },
  {
   "cell_type": "markdown",
   "metadata": {},
   "source": [
    "## a. Defining the functions"
   ]
  },
  {
   "cell_type": "code",
   "execution_count": 1,
   "metadata": {},
   "outputs": [],
   "source": [
    "def Montgomery_mult(a, b, N, R):\n",
    "    # Ensure that 0 < a,b < N\n",
    "    if a >= N or b >= N:\n",
    "        raise ValueError(\"a and b must be less than N\")\n",
    "    if a < 0 or b < 0:\n",
    "        raise ValueError(\"a and b must be non-negative\")\n",
    "    \n",
    "    # Ensure that N is odd\n",
    "    if N % 2 == 0:\n",
    "        raise ValueError(\"N must be odd\")\n",
    "    \n",
    "    # Ensure that R is a power of 2\n",
    "    if R & (R - 1) != 0:\n",
    "        raise ValueError(\"R must be a power of 2\")\n",
    "    \n",
    "    # Ensure that R > N\n",
    "    if R <= N:\n",
    "        raise ValueError(\"R must be greater than N\")\n",
    "    \n",
    "    # Set up phase\n",
    "    x = a * b   # integer multiplication\n",
    "    st = len(bin(R)[2:]) - 1\n",
    "    \n",
    "    # Computations of the algorithm\n",
    "    N_prime = ZZ(inverse_mod(N,R))\n",
    "    z = (x - (N * ((x * N_prime) & (R - 1)))) >> st\n",
    "    \n",
    "    if z < 0:\n",
    "        z = z + N\n",
    "    \n",
    "    return z\n",
    "\n",
    "\n",
    "def Montgomery_exp(x, y, N, R):\n",
    "    # Ensure that N is odd\n",
    "    if N % 2 == 0:\n",
    "        raise ValueError(\"N must be odd\")\n",
    "    \n",
    "    # Ensure that R is a power of 2\n",
    "    if R & (R - 1) != 0:\n",
    "        raise ValueError(\"R must be a power of 2\")\n",
    "    \n",
    "    # Ensure that R > N\n",
    "    if R <= N:\n",
    "        raise ValueError(\"R must be greater than N\")\n",
    "\n",
    "    # Ensure that 0 < x < N\n",
    "    if x >= N or x <= 0:\n",
    "        raise ValueError(\"x must be less than N and greater than 0\")\n",
    "    \n",
    "    # Set up the Montgomery parameters\n",
    "    x_bar = ZZ(mod(x * R, N))\n",
    "    r_bar = ZZ(mod(R, N))\n",
    "\n",
    "    # Computations of the algorithm\n",
    "    for i in range(len(bin(y)[2:])):\n",
    "        r_bar = Montgomery_mult(r_bar, r_bar, N, R)\n",
    "        \n",
    "        if bin(y)[2:][i] == \"1\":\n",
    "            r_bar = Montgomery_mult(r_bar, x_bar, N, R)\n",
    "            \n",
    "    return Montgomery_mult(r_bar, 1, N, R)"
   ]
  },
  {
   "cell_type": "markdown",
   "metadata": {},
   "source": [
    "## b. Testing"
   ]
  },
  {
   "cell_type": "markdown",
   "metadata": {},
   "source": [
    "### Montgomery multiplication"
   ]
  },
  {
   "cell_type": "code",
   "execution_count": 2,
   "metadata": {},
   "outputs": [
    {
     "name": "stdout",
     "output_type": "stream",
     "text": [
      "The code works:\n",
      ">> True\n"
     ]
    }
   ],
   "source": [
    "import random\n",
    "\n",
    "flag = True\n",
    "for _ in range(100):\n",
    "    # Choose random values for a, b, N, and R\n",
    "    R = 2**random.choice([1024, 2048, 4096])\n",
    "    while True:\n",
    "        N = random.randint(1, R-1)\n",
    "        if (N % 2 == 1):\n",
    "            break\n",
    "    a = random.randint(1, N-1)\n",
    "    b = random.randint(1, N-1)\n",
    "\n",
    "    # Test the Montgomery multiplication\n",
    "    a_mont = ZZ(mod(a*R, N))\n",
    "    b_mont = ZZ(mod(b*R, N))\n",
    "    # print(f\"a * b = {Montgomery_mult(a_mont, b_mont, N, R)}\")\n",
    "\n",
    "    if ((a_mont * b_mont)/R) % N != Montgomery_mult(a_mont, b_mont, N, R):\n",
    "        flag = False\n",
    "\n",
    "print(f\"The code works:\\n>> {flag}\")"
   ]
  },
  {
   "cell_type": "markdown",
   "metadata": {},
   "source": [
    "### Montgomery exponentiation"
   ]
  },
  {
   "cell_type": "code",
   "execution_count": 3,
   "metadata": {},
   "outputs": [],
   "source": [
    "# # Parameters for the test\n",
    "# x = 84922\n",
    "# y = 38231202\n",
    "# N = 5122324551\n",
    "# R = 2**2048\n",
    "\n",
    "# import time\n",
    "\n",
    "# ## Test the Montgomery exponentiation\n",
    "\n",
    "# # Start 1st clock\n",
    "# start_time = time.time()\n",
    "\n",
    "# # Run the algorithm\n",
    "# res = Montgomery_exp(x, y, N, R)\n",
    "\n",
    "# # Stop 1st clock\n",
    "# end_time = time.time()\n",
    "\n",
    "# # Calculate and print the elapsed time\n",
    "# run_time = end_time - start_time\n",
    "# print(f\"Test 1: Montgomery's algorithm\\n\\ta^b mod N = {res} \\n\\trun_time = {run_time} seconds\")\n",
    "\n",
    "# # Assert correctness of the operation\n",
    "# assert (x ** y) % N == res\n",
    "\n",
    "\n",
    "# ## Test the regular exponentiation\n",
    "\n",
    "# # Start 2nd clock\n",
    "# start_time = time.time()\n",
    "\n",
    "# # Run the algorithm\n",
    "# res = (x ** y) % N\n",
    "\n",
    "# # Stop 2nd clock\n",
    "# end_time = time.time()\n",
    "\n",
    "# # Calculate and print the elapsed time\n",
    "# run_time = end_time - start_time\n",
    "# print(f\"Test 2: Regular algorithm\\n\\ta^b mod N = {res} \\n\\trun_time = {run_time} seconds\")"
   ]
  },
  {
   "cell_type": "code",
   "execution_count": 4,
   "metadata": {},
   "outputs": [],
   "source": [
    "# import time\n",
    "# import random\n",
    "\n",
    "# for i in range(3):\n",
    "#     print(\"----- TEST n.\", i+1, \"----- \\n\")\n",
    "    \n",
    "#     s = random.choice([4,8,16])\n",
    "#     R = 2**s\n",
    "#     while True:\n",
    "#         N = random.randint(1, (R-1)//2)\n",
    "#         if (N % 2 == 1):\n",
    "#             break\n",
    "\n",
    "#     while True:\n",
    "#         x = random.randint((N-1)//4, 2*(N-1)//3)\n",
    "#         y = random.randint((N-1)//4, (N-1)//2)\n",
    "#         if x > 2**5 and y > 2**4:\n",
    "#             break\n",
    "\n",
    "#     print(f\"R = {R}, N = {N}, x = {x}, y = {y}\")\n",
    "\n",
    "\n",
    "#     ## Test the Montgomery exponentiation\n",
    "\n",
    "#     # Start 1st clock\n",
    "#     start_time = time.time()\n",
    "\n",
    "#     # Run the algorithm\n",
    "#     res = Montgomery_exp(x, y, N, R)\n",
    "\n",
    "#     # Stop 1st clock\n",
    "#     end_time = time.time()\n",
    "\n",
    "#     # Calculate and print the elapsed time\n",
    "#     run_time = end_time - start_time\n",
    "#     print(f\"Montgomery's algorithm\\n\\ta^b mod N = {res} \\n\\trun_time = {run_time} seconds\")\n",
    "\n",
    "#     # Assert correctness of the operation\n",
    "#     if (x ** y) % N != res:\n",
    "#         print(\"ATTENTION: Problem for the following parameters: \", R, N, x, y)\n",
    "\n",
    "\n",
    "#     ## Test the regular exponentiation\n",
    "\n",
    "#     # Start 2nd clock\n",
    "#     start_time = time.time()\n",
    "\n",
    "#     # Run the algorithm\n",
    "#     res = (x ** y) % N\n",
    "\n",
    "#     # Stop 2nd clock\n",
    "#     end_time = time.time()\n",
    "\n",
    "#     # Calculate and print the elapsed time\n",
    "#     run_time = end_time - start_time\n",
    "#     print(f\"Regular algorithm\\n\\ta^b mod N = {res} \\n\\trun_time = {run_time} seconds\")\n",
    "\n",
    "#     print(\"\\n\\n\")"
   ]
  },
  {
   "cell_type": "code",
   "execution_count": 5,
   "metadata": {},
   "outputs": [],
   "source": [
    "def test_exponentiations (R,N,x,y):\n",
    "    import time\n",
    "    import random\n",
    "\n",
    "    print(f\"R = {R}, N = {N}, x = {x}, y = {y}\")\n",
    "\n",
    "    ## Test the Montgomery exponentiation\n",
    "\n",
    "    # Start 1st clock\n",
    "    start_time = time.time()\n",
    "\n",
    "    # Run the algorithm\n",
    "    res = Montgomery_exp(x, y, N, R)\n",
    "\n",
    "    # Stop 1st clock\n",
    "    end_time = time.time()\n",
    "\n",
    "    # Calculate and print the elapsed time\n",
    "    run_time_mont = end_time - start_time\n",
    "    print(f\"Montgomery's algorithm\\n\\ta^b mod N = {res} \\n\\trun_time = {run_time_mont} seconds\")\n",
    "\n",
    "    # Assert correctness of the operation\n",
    "    if (x ** y) % N != res:\n",
    "        print(\"ATTENTION: Problem for the following parameters: \", R, N, x, y)\n",
    "\n",
    "\n",
    "    ## Test the regular exponentiation\n",
    "\n",
    "    # Start 2nd clock\n",
    "    start_time = time.time()\n",
    "\n",
    "    # Run the algorithm\n",
    "    res = (x ** y) % N\n",
    "\n",
    "    # Stop 2nd clock\n",
    "    end_time = time.time()\n",
    "\n",
    "    # Calculate and print the elapsed time\n",
    "    run_time_reg = end_time - start_time\n",
    "    print(f\"Regular algorithm\\n\\ta^b mod N = {res} \\n\\trun_time = {run_time_reg} seconds\")\n",
    "\n",
    "    # Compute the speed-up factor\n",
    "    speed_up = run_time_reg / run_time_mont\n",
    "    print(f\"Speed-up factor = {speed_up}\")\n",
    "\n",
    "    print(\"\\n\\n\")"
   ]
  },
  {
   "cell_type": "code",
   "execution_count": 21,
   "metadata": {},
   "outputs": [
    {
     "name": "stdout",
     "output_type": "stream",
     "text": [
      "----- TEST n. 1 ----- \n",
      "\n",
      "Montgomery's algorithm\n",
      "\ta^b mod N = 273016 \n",
      "\trun_time = 0.0013298988342285156 seconds\n",
      "Regular algorithm\n",
      "\ta^b mod N = 273016 \n",
      "\trun_time = 2.610747814178467 seconds\n",
      "\n",
      "\n",
      "\n",
      "----- TEST n. 2 ----- \n",
      "\n",
      "Montgomery's algorithm\n",
      "\ta^b mod N = 117035205 \n",
      "\trun_time = 0.00016689300537109375 seconds\n",
      "Regular algorithm\n",
      "\ta^b mod N = 117035205 \n",
      "\trun_time = 0.890923023223877 seconds\n",
      "\n",
      "\n",
      "\n",
      "----- TEST n. 3 ----- \n",
      "\n",
      "Montgomery's algorithm\n",
      "\ta^b mod N = 44393155 \n",
      "\trun_time = 0.0005831718444824219 seconds\n",
      "Regular algorithm\n",
      "\ta^b mod N = 44393155 \n",
      "\trun_time = 0.6845598220825195 seconds\n",
      "\n",
      "\n",
      "\n"
     ]
    }
   ],
   "source": [
    "# Sets of values:\n",
    "s = 30\n",
    "R = [2**s, 2**s, 2**s]\n",
    "N = [12134225, 123234001, 52342227]\n",
    "x = [22342234111, 722323444229, 432234244229]\n",
    "y = [12342221, 4233420, 3242320]\n",
    "\n",
    "# Run the tests\n",
    "for i in range(3):\n",
    "    print(\"----- TEST n.\", i+1, \"----- \\n\")\n",
    "    test_exponentiations(R[i], N[i], x[i], y[i])\n"
   ]
  },
  {
   "cell_type": "code",
   "execution_count": 1,
   "metadata": {},
   "outputs": [
    {
     "name": "stdout",
     "output_type": "stream",
     "text": [
      "0b11011\n"
     ]
    }
   ],
   "source": [
    "a = 27\n",
    "print(bin(a))"
   ]
  },
  {
   "cell_type": "code",
   "execution_count": null,
   "metadata": {},
   "outputs": [],
   "source": [
    "# for loop from t-1 to 0 decreasing by 1 everytime\n",
    "for i in range(len(bin(a)[2:])-1, -1, -1):\n",
    "    print(bin(a)[2:][i])"
   ]
  }
 ],
 "metadata": {
  "kernelspec": {
   "display_name": "Python 3",
   "language": "python",
   "name": "python3"
  },
  "language_info": {
   "codemirror_mode": {
    "name": "ipython",
    "version": 3
   },
   "file_extension": ".py",
   "mimetype": "text/x-python",
   "name": "python",
   "nbconvert_exporter": "python",
   "pygments_lexer": "ipython3",
   "version": "3.11.2"
  }
 },
 "nbformat": 4,
 "nbformat_minor": 2
}
