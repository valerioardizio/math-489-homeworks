{
 "cells": [
  {
   "cell_type": "markdown",
   "metadata": {},
   "source": [
    "# P 5.1"
   ]
  },
  {
   "cell_type": "markdown",
   "metadata": {},
   "source": [
    "Implement a function `remove_repeated_factors(f, q)` on SAGE, which takes a polynomial $f$ in $\\mathbb{F}_q[X]$ as input, and outputs a **square-free** polynomial $\\tilde{f}$ that divides $f$ and which has the same irreducible factors as $f$.\n",
    "\n",
    "**DO NOT USE THE `factor` FUNCTION**."
   ]
  },
  {
   "cell_type": "code",
   "execution_count": 1,
   "metadata": {
    "vscode": {
     "languageId": "python"
    }
   },
   "outputs": [],
   "source": [
    "# Find the prime factor of a given number q\n",
    "def find_char(q):\n",
    "    if q.is_prime():\n",
    "        return q\n",
    "    \n",
    "    # Attempt to find the prime factor by iterating over possible divisors\n",
    "    for i in range(2, ceil(log(q, 2))):\n",
    "        # Check if q is divisible by i and if the result is an integer\n",
    "        tmp = q ** (1/i)\n",
    "        if tmp.is_integer():\n",
    "            return tmp\n",
    "    \n",
    "    # Raise exception if no prime factor is found\n",
    "    raise Exception('Given q is not a power of a prime')\n",
    "\n",
    "\n",
    "# Remove repeated factors from a polynomial over a finite field\n",
    "def remove_repeated_factors(f, q):\n",
    "    # Check if the polynomial is in the finite field F_q\n",
    "    if (f in PolynomialRing(GF(q), 'X')) == False:\n",
    "        raise Exception('Given polynomial is not in F_q[X]')\n",
    "    \n",
    "    # Check if the polynomial is an integer\n",
    "    if isinstance(f, sage.rings.integer.Integer):\n",
    "        return f % q\n",
    "    \n",
    "    # Find the prime factor of the finite field characteristic\n",
    "    prime_factor = find_char(q)\n",
    "    result_poly = 1\n",
    "\n",
    "    # Compute the derivative and gcd of the input polynomial\n",
    "    derivative_poly = derivative(f)\n",
    "    gcd_poly = f.gcd(derivative_poly)\n",
    "\n",
    "    # Compute the quotient polynomial and update the result\n",
    "    quotient_poly = f / gcd_poly\n",
    "    while quotient_poly != 1:\n",
    "        remainder = quotient_poly.gcd(gcd_poly)\n",
    "        factor = quotient_poly / remainder\n",
    "        result_poly = result_poly * factor\n",
    "        quotient_poly = remainder\n",
    "        gcd_poly = gcd_poly / remainder\n",
    "    \n",
    "    # If there are remaining factors, compute their p-th roots\n",
    "    if gcd_poly != 1:\n",
    "        gcd_poly = gcd_poly.numerator().nth_root(prime_factor)\n",
    "        result_poly = result_poly * remove_repeated_factors(gcd_poly, q)\n",
    "\n",
    "    return result_poly"
   ]
  },
  {
   "cell_type": "code",
   "execution_count": 2,
   "metadata": {
    "vscode": {
     "languageId": "python"
    }
   },
   "outputs": [
    {
     "name": "stdout",
     "output_type": "stream",
     "text": [
      "Polynomial:\n",
      "\tf (X) = X^32 + 15*X^31 + 4*X^30 + 10*X^29 + 11*X^28 + 11*X^26 + X^25 + 8*X^24 + 15*X^23 + 2*X^22 + 15*X^21 + 4*X^20 + 16*X^19 + 3*X^18 + 7*X^17 + X^15 + 15*X^14 + 4*X^13 + 10*X^12 + 11*X^11 + 11*X^9 + X^8 + 8*X^7 + 15*X^6 + 2*X^5 + 15*X^4 + 4*X^3 + 16*X^2 + 3*X + 7\n",
      "Factorization of f(X):\n",
      "\t(X + 1)^17 * (X^3 + 15*X^2 + 8*X + 6) * (X^12 + 13*X^10 + 13*X^9 + X^8 + 7*X^7 + 7*X^6 + 4*X^5 + 3*X^4 + 15*X^3 + X^2 + 15*X + 4)\n",
      "Square-free polynomial:\n",
      "\tf_tilde(X) = X^16 + 16*X^15 + 2*X^14 + 14*X^13 + 4*X^12 + 11*X^11 + 11*X^10 + 12*X^9 + 9*X^8 + 6*X^7 + 2*X^4 + 3*X^3 + 2*X^2 + 10*X + 7\n",
      "Factorization of f_tilde(X):\n",
      "\t(X + 1) * (X^3 + 15*X^2 + 8*X + 6) * (X^12 + 13*X^10 + 13*X^9 + X^8 + 7*X^7 + 7*X^6 + 4*X^5 + 3*X^4 + 15*X^3 + X^2 + 15*X + 4)\n"
     ]
    }
   ],
   "source": [
    "# Functionality test\n",
    "q = 17**11\n",
    "F_q = GF(q)\n",
    "R = PolynomialRing(F_q, 'X')\n",
    "X = R.gen()\n",
    "\n",
    "# test = X**5 * (X+1)\n",
    "# test = (X**6+723)**2 * (X**12+1)**13 * (X**22+X**32)**13 * (X**12+124)\n",
    "# Generate a random polynomial test of degree 32\n",
    "test = (X**32 + X**30 + X**29 + X**28 + X**19 + X**18 + X**17)(X+1)\n",
    "print(\"Polynomial:\\n\\tf (X) = \" + str(test))\n",
    "print(\"Factorization of f(X):\\n\\t\" + str(test.factor()))\n",
    "print(\"Square-free polynomial:\\n\\tf_tilde(X) = \" + str(remove_repeated_factors(test, q)))\n",
    "print(\"Factorization of f_tilde(X):\\n\\t\" + str(remove_repeated_factors(test, q).factor()))"
   ]
  },
  {
   "cell_type": "code",
   "execution_count": 3,
   "metadata": {
    "vscode": {
     "languageId": "python"
    }
   },
   "outputs": [
    {
     "name": "stdout",
     "output_type": "stream",
     "text": [
      "Polynomial:\n",
      "\tf (X) = X^3 + 5*X^2 + 9*X + 6\n",
      "Factorization of f(X):\n",
      "\t(X + 2) * (X + 5) * (X + 11)\n",
      "Square-free polynomial:\n",
      "\tf_tilde(X) = X^3 + 5*X^2 + 9*X + 6\n",
      "Factorization of f_tilde(X):\n",
      "\t(X + 2) * (X + 5) * (X + 11)\n"
     ]
    }
   ],
   "source": [
    "# Functionality test\n",
    "q = 13\n",
    "F_q = GF(q)\n",
    "R = PolynomialRing(F_q, 'X')\n",
    "X = R.gen()\n",
    "\n",
    "# test = X**5 * (X+1)\n",
    "# test = (X**6+723)**2 * (X**12+1)**13 * (X**22+X**32)**13 * (X**12+124)\n",
    "# Generate a random polynomial test of degree 32\n",
    "test = (X + 2) * (X + 5) * (X + 11)\n",
    "print(\"Polynomial:\\n\\tf (X) = \" + str(test))\n",
    "print(\"Factorization of f(X):\\n\\t\" + str(test.factor()))\n",
    "print(\"Square-free polynomial:\\n\\tf_tilde(X) = \" + str(remove_repeated_factors(test, q)))\n",
    "print(\"Factorization of f_tilde(X):\\n\\t\" + str(remove_repeated_factors(test, q).factor()))"
   ]
  },
  {
   "cell_type": "code",
   "execution_count": null,
   "metadata": {
    "vscode": {
     "languageId": "python"
    }
   },
   "outputs": [],
   "source": []
  }
 ],
 "metadata": {
  "kernelspec": {
   "display_name": "SageMath 10.1",
   "language": "sage",
   "name": "SageMath-10.1"
  },
  "language_info": {
   "codemirror_mode": {
    "name": "ipython",
    "version": 3
   },
   "file_extension": ".py",
   "mimetype": "text/x-python",
   "name": "sage",
   "nbconvert_exporter": "python",
   "pygments_lexer": "ipython3",
   "version": "3.11.1"
  }
 },
 "nbformat": 4,
 "nbformat_minor": 2
}
