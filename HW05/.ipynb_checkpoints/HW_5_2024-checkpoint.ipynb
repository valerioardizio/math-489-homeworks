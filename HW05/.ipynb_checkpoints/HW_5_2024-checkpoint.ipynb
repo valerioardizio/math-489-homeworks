{
 "cells": [
  {
   "cell_type": "markdown",
   "metadata": {},
   "source": [
    "# P 5.1"
   ]
  },
  {
   "cell_type": "markdown",
   "metadata": {},
   "source": [
    "Implement a function `remove_repeated_factors(f, q)` on SAGE, which takes a polynomial $f$ in $\\mathbb{F_q}[X]$ as input, and outputs a **square-free** polynomial $\\tilde{f}$ that divides $f$ and which has the same irreducible factors as $f$.\n",
    "\n",
    "**DO NOT USE THE `factor` FUNCTION**."
   ]
  },
  {
   "cell_type": "code",
   "execution_count": 1,
   "metadata": {
    "vscode": {
     "languageId": "python"
    }
   },
   "outputs": [],
   "source": [
    "#from sage.rings.polynomial.polynomial_element import derivative\n",
    "\n",
    "def find_prime_factor(q):\n",
    "    \"\"\"\n",
    "    Find the prime factor of a given number q.\n",
    "\n",
    "    Args:\n",
    "        q (int): A positive integer.\n",
    "\n",
    "    Returns:\n",
    "        int: The prime factor of q.\n",
    "\n",
    "    Raises:\n",
    "        Exception: If q is not a power of a prime.\n",
    "    \"\"\"\n",
    "    if q.is_prime():\n",
    "        return q\n",
    "    \n",
    "    # Attempt to find the prime factor by iterating over possible divisors\n",
    "    for i in range(2, ceil(log(q, 2))):\n",
    "        # Check if q is divisible by i and if the result is an integer\n",
    "        tmp = q ** (1/i)\n",
    "        if tmp.is_integer():\n",
    "            return tmp\n",
    "    \n",
    "    # Raise exception if no prime factor is found\n",
    "    raise Exception('Given q is not a power of a prime')\n",
    "\n",
    "\n",
    "def remove_repeated_factors(poly, field_cardin):\n",
    "    \"\"\"\n",
    "    Remove repeated factors from a polynomial over a finite field.\n",
    "\n",
    "    Args:\n",
    "        poly (Polynomial): The polynomial to process.\n",
    "        field_cardin (int): The characteristic of the finite field.\n",
    "\n",
    "    Returns:\n",
    "        Polynomial: The polynomial with repeated factors removed.\n",
    "\n",
    "    Raises:\n",
    "        Exception: If the input polynomial is not in the specified finite field.\n",
    "    \"\"\"\n",
    "    # Check if the polynomial is an integer\n",
    "    if isinstance(poly, sage.rings.integer.Integer):\n",
    "        return poly % field_cardin\n",
    "    \n",
    "    # Check if the polynomial is in the finite field F_q\n",
    "    if (poly in PolynomialRing(GF(field_cardin), 'X')) == False:\n",
    "        raise Exception('Given polynomial is not in F_q[X]')\n",
    "    \n",
    "    # Find the prime factor of the finite field characteristic\n",
    "    prime_factor = find_prime_factor(field_cardin)\n",
    "    result_poly = 1\n",
    "\n",
    "    # Compute the derivative and gcd of the input polynomial\n",
    "    derivative_poly = derivative(poly)\n",
    "    gcd_poly = poly.gcd(derivative_poly)\n",
    "\n",
    "    # Compute the quotient polynomial and update the result\n",
    "    quotient_poly = poly / gcd_poly\n",
    "    while quotient_poly != 1:\n",
    "        remainder = quotient_poly.gcd(gcd_poly)\n",
    "        factor = quotient_poly / remainder\n",
    "        result_poly = result_poly * factor\n",
    "        quotient_poly = remainder\n",
    "        gcd_poly = gcd_poly / remainder\n",
    "    \n",
    "    # If there are remaining factors, compute their p-th roots\n",
    "    if gcd_poly != 1:\n",
    "        gcd_poly = gcd_poly.numerator().nth_root(prime_factor)\n",
    "        result_poly = result_poly * remove_repeated_factors(gcd_poly, field_cardin)\n",
    "\n",
    "    return result_poly"
   ]
  },
  {
   "cell_type": "code",
   "execution_count": 13,
   "metadata": {
    "vscode": {
     "languageId": "python"
    }
   },
   "outputs": [
    {
     "name": "stdout",
     "output_type": "stream",
     "text": [
      "Polynomial:\n",
      "\tf (X) = X^48 + 9*X^44 + 2*X^42 + 10*X^40 + 5*X^38 + 7*X^36 + 7*X^34 + 5*X^32 + 12*X^30 + 6*X^28 + 5*X^26 + 12*X^24 + 5*X^22 + 6*X^20 + 12*X^18 + 5*X^16 + 7*X^14 + 7*X^12 + 5*X^10 + 10*X^8 + 2*X^6 + 9*X^4 + 1\n",
      "Factorization of f(X):\n",
      "\t(X + 2)^2 * (X + 5)^2 * (X + 6)^2 * (X + 7)^2 * (X + 8)^2 * (X + 11)^2 * (X^2 + 5)^9 * (X^2 + 8)^9\n",
      "Square-free polynomial:\n",
      "\tf_tilde(X) = X^10 + X^6 + X^4 + 1\n",
      "Factorization of f_tilde(X):\n",
      "\t(X + 1) * (X + 2) * (X + 5) * (X + 8)\n",
      "\n",
      "The factorization of f_tilde(X) has only irreducible polynomials of degree 1\n"
     ]
    }
   ],
   "source": [
    "# Functionality test\n",
    "q = 13**7\n",
    "F_q = GF(q)\n",
    "R = PolynomialRing(F_q, 'X')\n",
    "X = R.gen()\n",
    "\n",
    "test = (X^6+1)^2 * (X^4+1)^9\n",
    "print(\"Polynomial:\\n\\tf (X) = \" + str(test))\n",
    "print(\"Factorization of f(X):\\n\\t\" + str(test.factor()))\n",
    "print(\"Square-free polynomial:\\n\\tf_tilde(X) = \" + str(remove_repeated_factors(test, q)))\n",
    "print(\"Factorization of f_tilde(X):\\n\\t\" + str(result.factor()))\n",
    "\n",
    "print(\"\\nThe factorization of f_tilde(X) has only irreducible polynomials of degree 1\")"
   ]
  },
  {
   "cell_type": "code",
   "execution_count": null,
   "metadata": {},
   "outputs": [],
   "source": []
  }
 ],
 "metadata": {
  "kernelspec": {
   "display_name": "SageMath 10.1",
   "language": "sage",
   "name": "sagemath"
  },
  "language_info": {
   "codemirror_mode": {
    "name": "ipython",
    "version": 3
   },
   "file_extension": ".py",
   "mimetype": "text/x-python",
   "name": "python",
   "nbconvert_exporter": "python",
   "pygments_lexer": "ipython3",
   "version": "3.11.1"
  }
 },
 "nbformat": 4,
 "nbformat_minor": 2
}
